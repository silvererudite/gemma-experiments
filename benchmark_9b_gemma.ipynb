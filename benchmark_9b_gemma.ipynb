{
 "cells": [
  {
   "cell_type": "code",
   "execution_count": 1,
   "id": "2f9f1dde-1e2b-4535-a1f1-486b519614f4",
   "metadata": {
    "collapsed": true,
    "jupyter": {
     "outputs_hidden": true
    },
    "tags": []
   },
   "outputs": [
    {
     "name": "stdout",
     "output_type": "stream",
     "text": [
      "Requirement already satisfied: kagglehub in /home/ec2-user/anaconda3/envs/pytorch_p310/lib/python3.10/site-packages (0.3.6)\n",
      "Requirement already satisfied: packaging in /home/ec2-user/anaconda3/envs/pytorch_p310/lib/python3.10/site-packages (from kagglehub) (21.3)\n",
      "Requirement already satisfied: requests in /home/ec2-user/anaconda3/envs/pytorch_p310/lib/python3.10/site-packages (from kagglehub) (2.32.3)\n",
      "Requirement already satisfied: tqdm in /home/ec2-user/anaconda3/envs/pytorch_p310/lib/python3.10/site-packages (from kagglehub) (4.67.1)\n",
      "Requirement already satisfied: pyparsing!=3.0.5,>=2.0.2 in /home/ec2-user/anaconda3/envs/pytorch_p310/lib/python3.10/site-packages (from packaging->kagglehub) (3.2.0)\n",
      "Requirement already satisfied: charset_normalizer<4,>=2 in /home/ec2-user/anaconda3/envs/pytorch_p310/lib/python3.10/site-packages (from requests->kagglehub) (3.4.0)\n",
      "Requirement already satisfied: idna<4,>=2.5 in /home/ec2-user/anaconda3/envs/pytorch_p310/lib/python3.10/site-packages (from requests->kagglehub) (3.10)\n",
      "Requirement already satisfied: urllib3<3,>=1.21.1 in /home/ec2-user/anaconda3/envs/pytorch_p310/lib/python3.10/site-packages (from requests->kagglehub) (2.2.3)\n",
      "Requirement already satisfied: certifi>=2017.4.17 in /home/ec2-user/anaconda3/envs/pytorch_p310/lib/python3.10/site-packages (from requests->kagglehub) (2024.8.30)\n"
     ]
    }
   ],
   "source": [
    "!pip install kagglehub"
   ]
  },
  {
   "cell_type": "code",
   "execution_count": 3,
   "id": "233e8a6d-9952-4901-8879-5e02ee33e8ac",
   "metadata": {
    "tags": []
   },
   "outputs": [
    {
     "data": {
      "application/vnd.jupyter.widget-view+json": {
       "model_id": "225cd7f28c2c44509df449bb4dd14e4c",
       "version_major": 2,
       "version_minor": 0
      },
      "text/plain": [
       "VBox(children=(HTML(value='<center> <img\\nsrc=https://www.kaggle.com/static/images/site-logo.png\\nalt=\\'Kaggle…"
      ]
     },
     "metadata": {},
     "output_type": "display_data"
    }
   ],
   "source": [
    "import kagglehub\n",
    "kagglehub.login()"
   ]
  },
  {
   "cell_type": "code",
   "execution_count": 4,
   "id": "6f9ff7a6-9000-4056-a364-d545c588e49f",
   "metadata": {
    "collapsed": true,
    "jupyter": {
     "outputs_hidden": true
    },
    "tags": []
   },
   "outputs": [
    {
     "data": {
      "application/vnd.jupyter.widget-view+json": {
       "model_id": "deae22937a614237ab8de4b0ad74f7b6",
       "version_major": 2,
       "version_minor": 0
      },
      "text/plain": [
       "Downloading 4 files:   0%|          | 0/4 [00:00<?, ?it/s]"
      ]
     },
     "metadata": {},
     "output_type": "display_data"
    },
    {
     "name": "stdout",
     "output_type": "stream",
     "text": [
      "Download already complete (30704 bytes).\n",
      "Download already complete (4241003 bytes).\n",
      "Resuming download from 6676086784 bytes (3984433686 bytes left)...\n",
      "Resuming download from https://www.kaggle.com/api/v1/models/google/gemma-2/pyTorch/gemma-2-9b-it/1/download/pytorch_model-00000-of-00002.bin (6676086784/10660520470) bytes left.\n"
     ]
    },
    {
     "name": "stderr",
     "output_type": "stream",
     "text": [
      "\n",
      " 63%|██████▎   | 6.22G/9.93G [00:00<?, ?B/s]\u001b[A\n",
      " 63%|██████▎   | 6.22G/9.93G [00:00<02:00, 33.1MB/s]\u001b[A\n",
      " 63%|██████▎   | 6.23G/9.93G [00:00<01:57, 33.9MB/s]\u001b[A\n",
      " 63%|██████▎   | 6.23G/9.93G [00:00<02:05, 31.8MB/s]\u001b[A"
     ]
    },
    {
     "name": "stdout",
     "output_type": "stream",
     "text": [
      "Resuming download from 7084302336 bytes (755490424 bytes left)...\n"
     ]
    },
    {
     "name": "stderr",
     "output_type": "stream",
     "text": [
      "\n",
      " 63%|██████▎   | 6.24G/9.93G [00:00<01:58, 33.3MB/s]\u001b[A\n",
      " 63%|██████▎   | 6.24G/9.93G [00:00<01:45, 37.7MB/s]\u001b[A"
     ]
    },
    {
     "name": "stdout",
     "output_type": "stream",
     "text": [
      "Resuming download from https://www.kaggle.com/api/v1/models/google/gemma-2/pyTorch/gemma-2-9b-it/1/download/pytorch_model-00001-of-00002.bin (7084302336/7839792760) bytes left.\n"
     ]
    },
    {
     "name": "stderr",
     "output_type": "stream",
     "text": [
      "\n",
      "\n",
      " 90%|█████████ | 6.60G/7.30G [00:00<?, ?B/s]\u001b[A\u001b[A\n",
      " 63%|██████▎   | 6.25G/9.93G [00:00<01:25, 46.2MB/s]\u001b[A\n",
      "\n",
      " 90%|█████████ | 6.60G/7.30G [00:00<00:33, 22.4MB/s]\u001b[A\u001b[A\n",
      " 63%|██████▎   | 6.26G/9.93G [00:01<01:16, 51.8MB/s]\u001b[A\n",
      " 63%|██████▎   | 6.27G/9.93G [00:01<01:05, 59.6MB/s]\u001b[A\n",
      "\n",
      " 91%|█████████ | 6.61G/7.30G [00:00<00:24, 30.6MB/s]\u001b[A\u001b[A\n",
      " 63%|██████▎   | 6.28G/9.93G [00:01<00:47, 82.0MB/s]\u001b[A\n",
      "\n",
      " 91%|█████████ | 6.62G/7.30G [00:00<00:17, 42.0MB/s]\u001b[A\u001b[A\n",
      " 63%|██████▎   | 6.29G/9.93G [00:01<00:49, 78.7MB/s]\u001b[A\n",
      "\n",
      " 91%|█████████ | 6.63G/7.30G [00:00<00:14, 50.9MB/s]\u001b[A\u001b[A\n",
      " 63%|██████▎   | 6.30G/9.93G [00:01<00:55, 70.4MB/s]\u001b[A\n",
      "\n",
      " 91%|█████████ | 6.64G/7.30G [00:00<00:09, 73.4MB/s]\u001b[A\u001b[A\n",
      " 64%|██████▎   | 6.31G/9.93G [00:01<00:49, 78.2MB/s]\u001b[A\n",
      "\n",
      " 91%|█████████ | 6.65G/7.30G [00:00<00:09, 74.0MB/s]\u001b[A\u001b[A\n",
      " 64%|██████▎   | 6.32G/9.93G [00:01<00:48, 79.4MB/s]\u001b[A\n",
      "\n",
      " 91%|█████████ | 6.66G/7.30G [00:01<00:09, 75.9MB/s]\u001b[A\u001b[A\n",
      " 64%|██████▎   | 6.33G/9.93G [00:01<00:40, 94.5MB/s]\u001b[A\n",
      "\n",
      " 91%|█████████▏| 6.66G/7.30G [00:01<00:08, 77.9MB/s]\u001b[A\u001b[A\n",
      " 64%|██████▍   | 6.34G/9.93G [00:02<00:55, 69.5MB/s]\u001b[A\n",
      "\n",
      " 91%|█████████▏| 6.68G/7.30G [00:01<00:07, 89.3MB/s]\u001b[A\u001b[A\n",
      " 64%|██████▍   | 6.35G/9.93G [00:02<00:49, 77.2MB/s]\u001b[A\n",
      "\n",
      " 92%|█████████▏| 6.69G/7.30G [00:01<00:06, 101MB/s] \u001b[A\u001b[A\n",
      " 64%|██████▍   | 6.36G/9.93G [00:02<00:43, 88.5MB/s]\u001b[A\n",
      "\n",
      " 92%|█████████▏| 6.70G/7.30G [00:01<00:05, 108MB/s]\u001b[A\u001b[A\n",
      "\n",
      " 92%|█████████▏| 6.72G/7.30G [00:01<00:06, 104MB/s]\u001b[A\u001b[A\n",
      " 64%|██████▍   | 6.38G/9.93G [00:02<00:42, 89.4MB/s]\u001b[A\n",
      "\n",
      " 92%|█████████▏| 6.74G/7.30G [00:01<00:04, 124MB/s]\u001b[A\u001b[A\n",
      " 64%|██████▍   | 6.39G/9.93G [00:02<00:36, 104MB/s] \u001b[A\n",
      "\n",
      " 92%|█████████▏| 6.75G/7.30G [00:01<00:04, 127MB/s]\u001b[A\u001b[A\n",
      " 64%|██████▍   | 6.40G/9.93G [00:02<00:37, 100MB/s]\u001b[A\n",
      " 65%|██████▍   | 6.42G/9.93G [00:02<00:32, 118MB/s]\u001b[A\n",
      "\n",
      " 93%|█████████▎| 6.76G/7.30G [00:02<00:06, 95.5MB/s]\u001b[A\u001b[A\n",
      " 65%|██████▍   | 6.43G/9.93G [00:02<00:33, 111MB/s]\u001b[A\n",
      " 65%|██████▍   | 6.45G/9.93G [00:03<00:30, 124MB/s]\u001b[A\n",
      "\n",
      " 93%|█████████▎| 6.77G/7.30G [00:02<00:06, 83.0MB/s]\u001b[A\u001b[A\n",
      " 65%|██████▌   | 6.46G/9.93G [00:03<00:32, 115MB/s]\u001b[A\n",
      "\n",
      " 93%|█████████▎| 6.79G/7.30G [00:02<00:05, 95.8MB/s]\u001b[A\u001b[A\n",
      "\n",
      " 93%|█████████▎| 6.81G/7.30G [00:02<00:04, 120MB/s] \u001b[A\u001b[A\n",
      " 65%|██████▌   | 6.47G/9.93G [00:03<00:36, 102MB/s]\u001b[A\n",
      "\n",
      " 93%|█████████▎| 6.82G/7.30G [00:02<00:04, 123MB/s]\u001b[A\u001b[A\n",
      " 65%|██████▌   | 6.49G/9.93G [00:03<00:34, 108MB/s]\u001b[A\n",
      "\n",
      " 94%|█████████▎| 6.84G/7.30G [00:02<00:03, 142MB/s]\u001b[A\u001b[A\n",
      " 66%|██████▌   | 6.50G/9.93G [00:03<00:27, 132MB/s]\u001b[A\n",
      "\n",
      " 94%|█████████▍| 6.86G/7.30G [00:02<00:03, 149MB/s]\u001b[A\u001b[A\n",
      " 66%|██████▌   | 6.52G/9.93G [00:03<00:28, 127MB/s]\u001b[A\n",
      "\n",
      " 94%|█████████▍| 6.88G/7.30G [00:02<00:02, 167MB/s]\u001b[A\u001b[A\n",
      "\n",
      " 94%|█████████▍| 6.90G/7.30G [00:03<00:02, 171MB/s]\u001b[A\u001b[A\n",
      " 66%|██████▌   | 6.54G/9.93G [00:03<00:29, 125MB/s]\u001b[A\n",
      "\n",
      " 95%|█████████▍| 6.92G/7.30G [00:03<00:02, 172MB/s]\u001b[A\u001b[A\n",
      " 66%|██████▌   | 6.55G/9.93G [00:04<00:29, 124MB/s]\u001b[A\n",
      "\n",
      " 95%|█████████▌| 6.94G/7.30G [00:03<00:02, 187MB/s]\u001b[A\u001b[A\n",
      " 66%|██████▌   | 6.57G/9.93G [00:04<00:24, 146MB/s]\u001b[A\n",
      "\n",
      " 95%|█████████▌| 6.96G/7.30G [00:03<00:01, 193MB/s]\u001b[A\u001b[A\n",
      " 66%|██████▋   | 6.59G/9.93G [00:04<00:26, 136MB/s]\u001b[A\n",
      "\n",
      " 96%|█████████▌| 6.97G/7.30G [00:03<00:01, 191MB/s]\u001b[A\u001b[A\n",
      "\n",
      " 96%|█████████▌| 6.99G/7.30G [00:03<00:01, 189MB/s]\u001b[A\u001b[A\n",
      " 67%|██████▋   | 6.61G/9.93G [00:04<00:24, 143MB/s]\u001b[A\n",
      "\n",
      " 96%|█████████▌| 7.01G/7.30G [00:03<00:01, 195MB/s]\u001b[A\u001b[A\n",
      " 67%|██████▋   | 6.63G/9.93G [00:04<00:26, 132MB/s]\u001b[A\n",
      "\n",
      " 96%|█████████▋| 7.04G/7.30G [00:03<00:01, 196MB/s]\u001b[A\u001b[A\n",
      " 67%|██████▋   | 6.65G/9.93G [00:04<00:22, 156MB/s]\u001b[A\n",
      "\n",
      " 97%|█████████▋| 7.06G/7.30G [00:03<00:01, 199MB/s]\u001b[A\u001b[A\n",
      " 67%|██████▋   | 6.66G/9.93G [00:04<00:22, 154MB/s]\u001b[A\n",
      " 67%|██████▋   | 6.68G/9.93G [00:04<00:22, 157MB/s]\u001b[A\n",
      "\n",
      " 97%|█████████▋| 7.08G/7.30G [00:04<00:01, 159MB/s]\u001b[A\u001b[A\n",
      " 67%|██████▋   | 6.70G/9.93G [00:04<00:21, 164MB/s]\u001b[A\n",
      "\n",
      " 97%|█████████▋| 7.09G/7.30G [00:04<00:01, 155MB/s]\u001b[A\u001b[A\n",
      " 68%|██████▊   | 6.71G/9.93G [00:05<00:24, 142MB/s]\u001b[A\n",
      "\n",
      " 97%|█████████▋| 7.12G/7.30G [00:04<00:01, 151MB/s]\u001b[A\u001b[A\n",
      " 68%|██████▊   | 6.73G/9.93G [00:05<00:22, 150MB/s]\u001b[A\n",
      "\n",
      " 98%|█████████▊| 7.14G/7.30G [00:04<00:00, 178MB/s]\u001b[A\u001b[A\n",
      " 68%|██████▊   | 6.75G/9.93G [00:05<00:21, 156MB/s]\u001b[A\n",
      "\n",
      " 98%|█████████▊| 7.16G/7.30G [00:04<00:00, 174MB/s]\u001b[A\u001b[A\n",
      " 68%|██████▊   | 6.77G/9.93G [00:05<00:19, 171MB/s]\u001b[A\n",
      "\n",
      " 98%|█████████▊| 7.18G/7.30G [00:04<00:00, 184MB/s]\u001b[A\u001b[A\n",
      " 68%|██████▊   | 6.79G/9.93G [00:05<00:19, 177MB/s]\u001b[A\n",
      "\n",
      " 99%|█████████▊| 7.21G/7.30G [00:04<00:00, 205MB/s]\u001b[A\u001b[A\n",
      "\n",
      " 99%|█████████▉| 7.23G/7.30G [00:05<00:00, 178MB/s]\u001b[A\u001b[A\n",
      " 69%|██████▊   | 6.81G/9.93G [00:05<00:24, 136MB/s]\u001b[A\n",
      "\n",
      " 99%|█████████▉| 7.25G/7.30G [00:05<00:00, 184MB/s]\u001b[A\u001b[A\n",
      " 69%|██████▊   | 6.83G/9.93G [00:05<00:22, 151MB/s]\u001b[A\n",
      " 69%|██████▉   | 6.84G/9.93G [00:05<00:20, 165MB/s]\u001b[A\n",
      "\n",
      " 99%|█████████▉| 7.26G/7.30G [00:05<00:00, 183MB/s]\u001b[A\u001b[A\n",
      "\n",
      "100%|█████████▉| 7.28G/7.30G [00:05<00:00, 176MB/s]\u001b[A\u001b[A\n",
      "100%|██████████| 7.30G/7.30G [00:05<00:00, 139MB/s]\u001b[A\n",
      "\n",
      " 69%|██████▉   | 6.88G/9.93G [00:06<00:20, 163MB/s]\u001b[A\n",
      " 69%|██████▉   | 6.90G/9.93G [00:06<00:19, 165MB/s]\u001b[A\n",
      " 70%|██████▉   | 6.91G/9.93G [00:06<00:19, 166MB/s]\u001b[A\n",
      " 70%|██████▉   | 6.94G/9.93G [00:06<00:17, 181MB/s]\u001b[A\n",
      " 70%|███████   | 6.95G/9.93G [00:06<00:18, 173MB/s]\u001b[A\n",
      " 70%|███████   | 6.97G/9.93G [00:06<00:20, 157MB/s]\u001b[A\n",
      " 70%|███████   | 6.99G/9.93G [00:06<00:20, 150MB/s]\u001b[A\n",
      " 71%|███████   | 7.01G/9.93G [00:07<00:18, 167MB/s]\u001b[A\n",
      " 71%|███████   | 7.03G/9.93G [00:07<00:17, 178MB/s]\u001b[A\n",
      " 71%|███████   | 7.05G/9.93G [00:07<00:20, 152MB/s]\u001b[A\n",
      " 71%|███████   | 7.07G/9.93G [00:07<00:21, 141MB/s]\u001b[A\n",
      " 71%|███████▏  | 7.09G/9.93G [00:07<00:18, 164MB/s]\u001b[A\n",
      " 72%|███████▏  | 7.11G/9.93G [00:07<00:17, 172MB/s]\u001b[A\n",
      " 72%|███████▏  | 7.13G/9.93G [00:07<00:17, 167MB/s]\u001b[A\n",
      " 72%|███████▏  | 7.15G/9.93G [00:07<00:17, 168MB/s]\u001b[A\n",
      " 72%|███████▏  | 7.17G/9.93G [00:08<00:20, 144MB/s]\u001b[A\n",
      " 72%|███████▏  | 7.19G/9.93G [00:08<00:17, 164MB/s]\u001b[A\n",
      " 73%|███████▎  | 7.20G/9.93G [00:08<00:19, 154MB/s]\u001b[A\n",
      " 73%|███████▎  | 7.22G/9.93G [00:08<00:19, 148MB/s]\u001b[A\n",
      " 73%|███████▎  | 7.24G/9.93G [00:08<00:16, 170MB/s]\u001b[A\n",
      " 73%|███████▎  | 7.26G/9.93G [00:08<00:18, 159MB/s]\u001b[A\n",
      " 73%|███████▎  | 7.28G/9.93G [00:08<00:16, 174MB/s]\u001b[A\n",
      " 73%|███████▎  | 7.30G/9.93G [00:08<00:16, 169MB/s]\u001b[A\n",
      " 74%|███████▎  | 7.31G/9.93G [00:09<00:20, 139MB/s]\u001b[A\n",
      " 74%|███████▍  | 7.34G/9.93G [00:09<00:17, 163MB/s]\u001b[A\n",
      " 74%|███████▍  | 7.35G/9.93G [00:09<00:23, 120MB/s]\u001b[A\n",
      " 74%|███████▍  | 7.37G/9.93G [00:09<00:19, 144MB/s]\u001b[A\n",
      " 74%|███████▍  | 7.39G/9.93G [00:09<00:19, 140MB/s]\u001b[A\n",
      " 75%|███████▍  | 7.41G/9.93G [00:09<00:16, 160MB/s]\u001b[A\n",
      " 75%|███████▍  | 7.43G/9.93G [00:10<00:17, 152MB/s]\u001b[A\n",
      " 75%|███████▌  | 7.45G/9.93G [00:10<00:15, 173MB/s]\u001b[A\n",
      " 75%|███████▌  | 7.48G/9.93G [00:10<00:13, 189MB/s]\u001b[A\n",
      " 75%|███████▌  | 7.49G/9.93G [00:10<00:22, 118MB/s]\u001b[A\n",
      " 76%|███████▌  | 7.51G/9.93G [00:10<00:20, 124MB/s]\u001b[A\n",
      " 76%|███████▌  | 7.53G/9.93G [00:10<00:17, 150MB/s]\u001b[A\n",
      " 76%|███████▌  | 7.55G/9.93G [00:10<00:17, 144MB/s]\u001b[A\n",
      " 76%|███████▋  | 7.57G/9.93G [00:11<00:15, 163MB/s]\u001b[A\n",
      " 76%|███████▋  | 7.59G/9.93G [00:11<00:14, 177MB/s]\u001b[A\n",
      " 77%|███████▋  | 7.61G/9.93G [00:11<00:13, 178MB/s]\u001b[A\n",
      " 77%|███████▋  | 7.63G/9.93G [00:11<00:12, 193MB/s]\u001b[A\n",
      " 77%|███████▋  | 7.66G/9.93G [00:11<00:12, 197MB/s]\u001b[A\n",
      " 77%|███████▋  | 7.68G/9.93G [00:11<00:11, 204MB/s]\u001b[A\n",
      " 78%|███████▊  | 7.70G/9.93G [00:11<00:14, 162MB/s]\u001b[A\n",
      " 78%|███████▊  | 7.71G/9.93G [00:11<00:14, 162MB/s]\u001b[A\n",
      " 78%|███████▊  | 7.73G/9.93G [00:11<00:14, 158MB/s]\u001b[A\n",
      " 78%|███████▊  | 7.75G/9.93G [00:12<00:13, 176MB/s]\u001b[A\n",
      " 78%|███████▊  | 7.77G/9.93G [00:12<00:13, 176MB/s]\u001b[A\n",
      " 78%|███████▊  | 7.79G/9.93G [00:12<00:12, 187MB/s]\u001b[A\n",
      " 79%|███████▊  | 7.81G/9.93G [00:12<00:12, 176MB/s]\u001b[A\n",
      " 79%|███████▉  | 7.83G/9.93G [00:12<00:11, 193MB/s]\u001b[A\n",
      " 79%|███████▉  | 7.85G/9.93G [00:12<00:11, 187MB/s]\u001b[A\n",
      " 79%|███████▉  | 7.87G/9.93G [00:12<00:11, 194MB/s]\u001b[A\n",
      " 80%|███████▉  | 7.89G/9.93G [00:12<00:10, 201MB/s]\u001b[A\n",
      " 80%|███████▉  | 7.91G/9.93G [00:13<00:13, 161MB/s]\u001b[A\n",
      " 80%|███████▉  | 7.94G/9.93G [00:13<00:11, 179MB/s]\u001b[A\n",
      " 80%|████████  | 7.96G/9.93G [00:13<00:12, 173MB/s]\u001b[A\n",
      " 80%|████████  | 7.98G/9.93G [00:13<00:11, 189MB/s]\u001b[A\n",
      " 81%|████████  | 8.00G/9.93G [00:13<00:11, 173MB/s]\u001b[A\n",
      " 81%|████████  | 8.02G/9.93G [00:13<00:10, 187MB/s]\u001b[A\n",
      " 81%|████████  | 8.04G/9.93G [00:13<00:10, 190MB/s]\u001b[A\n",
      " 81%|████████  | 8.06G/9.93G [00:13<00:10, 198MB/s]\u001b[A\n",
      " 81%|████████▏ | 8.08G/9.93G [00:13<00:09, 199MB/s]\u001b[A\n",
      " 82%|████████▏ | 8.10G/9.93G [00:14<00:09, 205MB/s]\u001b[A\n",
      " 82%|████████▏ | 8.12G/9.93G [00:14<00:09, 196MB/s]\u001b[A\n",
      " 82%|████████▏ | 8.14G/9.93G [00:14<00:10, 188MB/s]\u001b[A\n",
      " 82%|████████▏ | 8.16G/9.93G [00:14<00:10, 178MB/s]\u001b[A\n",
      " 82%|████████▏ | 8.18G/9.93G [00:14<00:09, 191MB/s]\u001b[A\n",
      " 83%|████████▎ | 8.20G/9.93G [00:14<00:09, 202MB/s]\u001b[A\n",
      " 83%|████████▎ | 8.22G/9.93G [00:14<00:11, 155MB/s]\u001b[A\n",
      " 83%|████████▎ | 8.24G/9.93G [00:14<00:10, 170MB/s]\u001b[A\n",
      " 83%|████████▎ | 8.26G/9.93G [00:15<00:10, 172MB/s]\u001b[A\n",
      " 83%|████████▎ | 8.28G/9.93G [00:15<00:09, 181MB/s]\u001b[A\n",
      " 84%|████████▎ | 8.29G/9.93G [00:15<00:11, 151MB/s]\u001b[A\n",
      " 84%|████████▍ | 8.32G/9.93G [00:15<00:10, 171MB/s]\u001b[A\n",
      " 84%|████████▍ | 8.34G/9.93G [00:15<00:09, 183MB/s]\u001b[A\n",
      " 84%|████████▍ | 8.36G/9.93G [00:15<00:09, 181MB/s]\u001b[A\n",
      " 84%|████████▍ | 8.37G/9.93G [00:15<00:10, 162MB/s]\u001b[A\n",
      " 85%|████████▍ | 8.39G/9.93G [00:15<00:10, 159MB/s]\u001b[A\n",
      " 85%|████████▍ | 8.41G/9.93G [00:16<00:09, 179MB/s]\u001b[A\n",
      " 85%|████████▍ | 8.43G/9.93G [00:16<00:09, 167MB/s]\u001b[A\n",
      " 85%|████████▌ | 8.45G/9.93G [00:16<00:10, 157MB/s]\u001b[A\n",
      " 85%|████████▌ | 8.47G/9.93G [00:16<00:09, 169MB/s]\u001b[A\n",
      " 85%|████████▌ | 8.48G/9.93G [00:16<00:09, 158MB/s]\u001b[A\n",
      " 86%|████████▌ | 8.50G/9.93G [00:16<00:09, 155MB/s]\u001b[A\n",
      " 86%|████████▌ | 8.52G/9.93G [00:16<00:08, 172MB/s]\u001b[A\n",
      " 86%|████████▌ | 8.54G/9.93G [00:16<00:09, 163MB/s]\u001b[A\n",
      " 86%|████████▌ | 8.56G/9.93G [00:16<00:08, 177MB/s]\u001b[A\n",
      " 86%|████████▋ | 8.58G/9.93G [00:17<00:08, 173MB/s]\u001b[A\n",
      " 87%|████████▋ | 8.60G/9.93G [00:17<00:07, 186MB/s]\u001b[A\n",
      " 87%|████████▋ | 8.62G/9.93G [00:17<00:08, 165MB/s]\u001b[A\n",
      " 87%|████████▋ | 8.64G/9.93G [00:17<00:07, 181MB/s]\u001b[A\n",
      " 87%|████████▋ | 8.66G/9.93G [00:17<00:07, 182MB/s]\u001b[A\n",
      " 87%|████████▋ | 8.68G/9.93G [00:17<00:07, 170MB/s]\u001b[A\n",
      " 88%|████████▊ | 8.69G/9.93G [00:17<00:07, 168MB/s]\u001b[A\n",
      " 88%|████████▊ | 8.71G/9.93G [00:17<00:07, 183MB/s]\u001b[A\n",
      " 88%|████████▊ | 8.73G/9.93G [00:18<00:06, 188MB/s]\u001b[A\n",
      " 88%|████████▊ | 8.75G/9.93G [00:18<00:07, 177MB/s]\u001b[A\n",
      " 88%|████████▊ | 8.77G/9.93G [00:18<00:07, 174MB/s]\u001b[A\n",
      " 89%|████████▊ | 8.79G/9.93G [00:18<00:08, 151MB/s]\u001b[A\n",
      " 89%|████████▉ | 8.81G/9.93G [00:18<00:06, 174MB/s]\u001b[A\n",
      " 89%|████████▉ | 8.83G/9.93G [00:18<00:07, 163MB/s]\u001b[A\n",
      " 89%|████████▉ | 8.85G/9.93G [00:18<00:06, 169MB/s]\u001b[A\n",
      " 89%|████████▉ | 8.87G/9.93G [00:18<00:06, 181MB/s]\u001b[A\n",
      " 90%|████████▉ | 8.89G/9.93G [00:19<00:07, 156MB/s]\u001b[A\n",
      " 90%|████████▉ | 8.91G/9.93G [00:19<00:07, 154MB/s]\u001b[A\n",
      " 90%|████████▉ | 8.92G/9.93G [00:19<00:08, 122MB/s]\u001b[A\n",
      " 90%|█████████ | 8.94G/9.93G [00:19<00:07, 147MB/s]\u001b[A\n",
      " 90%|█████████ | 8.96G/9.93G [00:19<00:07, 141MB/s]\u001b[A\n",
      " 90%|█████████ | 8.97G/9.93G [00:19<00:08, 121MB/s]\u001b[A\n",
      " 91%|█████████ | 8.99G/9.93G [00:19<00:07, 137MB/s]\u001b[A\n",
      " 91%|█████████ | 9.01G/9.93G [00:20<00:07, 135MB/s]\u001b[A\n",
      " 91%|█████████ | 9.03G/9.93G [00:20<00:06, 160MB/s]\u001b[A\n",
      " 91%|█████████ | 9.05G/9.93G [00:20<00:06, 148MB/s]\u001b[A\n",
      " 91%|█████████▏| 9.06G/9.93G [00:20<00:06, 148MB/s]\u001b[A\n",
      " 91%|█████████▏| 9.08G/9.93G [00:20<00:05, 166MB/s]\u001b[A\n",
      " 92%|█████████▏| 9.11G/9.93G [00:20<00:04, 185MB/s]\u001b[A\n",
      " 92%|█████████▏| 9.12G/9.93G [00:20<00:05, 171MB/s]\u001b[A\n",
      " 92%|█████████▏| 9.14G/9.93G [00:20<00:05, 143MB/s]\u001b[A\n",
      " 92%|█████████▏| 9.16G/9.93G [00:21<00:06, 119MB/s]\u001b[A\n",
      " 92%|█████████▏| 9.18G/9.93G [00:21<00:05, 147MB/s]\u001b[A\n",
      " 93%|█████████▎| 9.20G/9.93G [00:21<00:05, 134MB/s]\u001b[A\n",
      " 93%|█████████▎| 9.21G/9.93G [00:21<00:05, 143MB/s]\u001b[A\n",
      " 93%|█████████▎| 9.23G/9.93G [00:21<00:04, 159MB/s]\u001b[A\n",
      " 93%|█████████▎| 9.25G/9.93G [00:21<00:04, 147MB/s]\u001b[A\n",
      " 93%|█████████▎| 9.26G/9.93G [00:21<00:05, 137MB/s]\u001b[A\n",
      " 94%|█████████▎| 9.29G/9.93G [00:21<00:04, 163MB/s]\u001b[A\n",
      " 94%|█████████▎| 9.30G/9.93G [00:22<00:05, 122MB/s]\u001b[A\n",
      " 94%|█████████▍| 9.33G/9.93G [00:22<00:04, 147MB/s]\u001b[A\n",
      " 94%|█████████▍| 9.34G/9.93G [00:22<00:04, 140MB/s]\u001b[A\n",
      " 94%|█████████▍| 9.36G/9.93G [00:22<00:03, 161MB/s]\u001b[A\n",
      " 94%|█████████▍| 9.38G/9.93G [00:22<00:03, 166MB/s]\u001b[A\n",
      " 95%|█████████▍| 9.40G/9.93G [00:22<00:03, 165MB/s]\u001b[A\n",
      " 95%|█████████▍| 9.42G/9.93G [00:22<00:03, 181MB/s]\u001b[A\n",
      " 95%|█████████▌| 9.44G/9.93G [00:23<00:03, 173MB/s]\u001b[A\n",
      " 95%|█████████▌| 9.46G/9.93G [00:23<00:04, 125MB/s]\u001b[A\n",
      " 95%|█████████▌| 9.48G/9.93G [00:23<00:03, 145MB/s]\u001b[A\n",
      " 96%|█████████▌| 9.50G/9.93G [00:23<00:02, 161MB/s]\u001b[A\n",
      " 96%|█████████▌| 9.52G/9.93G [00:23<00:02, 162MB/s]\u001b[A\n",
      " 96%|█████████▌| 9.53G/9.93G [00:23<00:02, 168MB/s]\u001b[A\n",
      " 96%|█████████▌| 9.56G/9.93G [00:23<00:02, 180MB/s]\u001b[A\n",
      " 96%|█████████▋| 9.57G/9.93G [00:23<00:02, 175MB/s]\u001b[A\n",
      " 97%|█████████▋| 9.59G/9.93G [00:24<00:02, 162MB/s]\u001b[A\n",
      " 97%|█████████▋| 9.61G/9.93G [00:24<00:02, 169MB/s]\u001b[A\n",
      " 97%|█████████▋| 9.63G/9.93G [00:24<00:02, 139MB/s]\u001b[A\n",
      " 97%|█████████▋| 9.66G/9.93G [00:24<00:01, 159MB/s]\u001b[A\n",
      " 97%|█████████▋| 9.67G/9.93G [00:24<00:01, 159MB/s]\u001b[A\n",
      " 98%|█████████▊| 9.69G/9.93G [00:24<00:01, 163MB/s]\u001b[A\n",
      " 98%|█████████▊| 9.71G/9.93G [00:24<00:01, 125MB/s]\u001b[A\n",
      " 98%|█████████▊| 9.73G/9.93G [00:25<00:01, 146MB/s]\u001b[A\n",
      " 98%|█████████▊| 9.74G/9.93G [00:25<00:01, 115MB/s]\u001b[A\n",
      " 98%|█████████▊| 9.77G/9.93G [00:25<00:01, 140MB/s]\u001b[A\n",
      " 99%|█████████▊| 9.78G/9.93G [00:25<00:01, 152MB/s]\u001b[A\n",
      " 99%|█████████▊| 9.80G/9.93G [00:25<00:01, 127MB/s]\u001b[A\n",
      " 99%|█████████▉| 9.82G/9.93G [00:25<00:00, 148MB/s]\u001b[A\n",
      " 99%|█████████▉| 9.84G/9.93G [00:25<00:00, 160MB/s]\u001b[A\n",
      " 99%|█████████▉| 9.86G/9.93G [00:26<00:00, 141MB/s]\u001b[A\n",
      "100%|█████████▉| 9.88G/9.93G [00:26<00:00, 156MB/s]\u001b[A\n",
      "100%|█████████▉| 9.90G/9.93G [00:26<00:00, 137MB/s]\u001b[A\n",
      "100%|██████████| 9.93G/9.93G [00:26<00:00, 150MB/s]\u001b[A"
     ]
    },
    {
     "name": "stdout",
     "output_type": "stream",
     "text": [
      "Path to model files: /home/ec2-user/.cache/kagglehub/models/google/gemma-2/pyTorch/gemma-2-9b-it/1\n"
     ]
    },
    {
     "name": "stderr",
     "output_type": "stream",
     "text": [
      "\n"
     ]
    }
   ],
   "source": [
    "\n",
    "# Download latest version\n",
    "path = kagglehub.model_download(\"google/gemma-2/pyTorch/gemma-2-9b-it\")\n",
    "\n",
    "print(\"Path to model files:\", path)"
   ]
  },
  {
   "cell_type": "code",
   "execution_count": null,
   "id": "ad5e6c38-0554-431a-8345-952fdae224a5",
   "metadata": {},
   "outputs": [],
   "source": [
    "#Path to model files: /home/ec2-user/.cache/kagglehub/models/google/gemma-2/pyTorch/gemma-2-9b-it/1"
   ]
  },
  {
   "cell_type": "code",
   "execution_count": 5,
   "id": "91bea268-fef5-4947-9b6a-00923ebe1685",
   "metadata": {
    "tags": []
   },
   "outputs": [
    {
     "name": "stdout",
     "output_type": "stream",
     "text": [
      "/home/ec2-user/SageMaker/gemma-experiments\n"
     ]
    }
   ],
   "source": [
    "!pwd"
   ]
  },
  {
   "cell_type": "code",
   "execution_count": 6,
   "id": "7293b41b-d7d5-4138-879f-1cbc63b45b08",
   "metadata": {
    "collapsed": true,
    "jupyter": {
     "outputs_hidden": true
    },
    "tags": []
   },
   "outputs": [
    {
     "name": "stdout",
     "output_type": "stream",
     "text": [
      "Cloning into 'gemma_pytorch'...\n",
      "remote: Enumerating objects: 244, done.\u001b[K\n",
      "remote: Counting objects: 100% (134/134), done.\u001b[K\n",
      "remote: Compressing objects: 100% (71/71), done.\u001b[K\n",
      "remote: Total 244 (delta 100), reused 63 (delta 63), pack-reused 110 (from 1)\u001b[K\n",
      "Receiving objects: 100% (244/244), 2.17 MiB | 31.33 MiB/s, done.\n",
      "Resolving deltas: 100% (142/142), done.\n",
      "mkdir: cannot create directory ‘/kaggle/working/gemma/’: No such file or directory\n",
      "mv: cannot stat ‘/kaggle/working/gemma_pytorch/gemma/*’: No such file or directory\n"
     ]
    }
   ],
   "source": [
    "!pip install -q -U immutabledict sentencepiece \n",
    "!git clone https://github.com/google/gemma_pytorch.git\n",
    "!mkdir /kaggle/working/gemma/\n",
    "!mv /kaggle/working/gemma_pytorch/gemma/* /kaggle/working/gemma/"
   ]
  },
  {
   "cell_type": "code",
   "execution_count": 7,
   "id": "7a5fb2d4-d257-4b6b-93c6-ff1ef9326119",
   "metadata": {
    "tags": []
   },
   "outputs": [],
   "source": [
    "import sys \n",
    "sys.path.append(\"gemma_pytorch/\") \n",
    "from gemma.config import GemmaConfig, get_model_config\n",
    "from gemma.model import GemmaForCausalLM\n",
    "from gemma.tokenizer import Tokenizer\n",
    "import contextlib\n",
    "import os\n",
    "import torch"
   ]
  },
  {
   "cell_type": "code",
   "execution_count": 8,
   "id": "1e1ca170-3d2d-4577-a46c-61a7ad5c7e87",
   "metadata": {
    "tags": []
   },
   "outputs": [],
   "source": [
    "VARIANT = \"9b\" \n",
    "MACHINE_TYPE = \"cuda\" \n",
    "weights_dir = '/home/ec2-user/.cache/kagglehub/models/google/gemma-2/pyTorch/gemma-2-9b-it/1' \n"
   ]
  },
  {
   "cell_type": "code",
   "execution_count": 9,
   "id": "b1175581-7db8-4112-adc7-ca2c8ac579ed",
   "metadata": {
    "tags": []
   },
   "outputs": [],
   "source": [
    "@contextlib.contextmanager\n",
    "def _set_default_tensor_type(dtype: torch.dtype):\n",
    "    \"\"\"Sets the default torch dtype to the given dtype.\"\"\"\n",
    "    torch.set_default_dtype(dtype)\n",
    "    yield\n",
    "    torch.set_default_dtype(torch.float)\n",
    "\n",
    "model_config = get_model_config(VARIANT)\n",
    "model_config.tokenizer = os.path.join(weights_dir, \"tokenizer.model\")\n",
    "\n",
    "device = torch.device(MACHINE_TYPE)\n",
    "with _set_default_tensor_type(model_config.get_dtype()):\n",
    "    model = GemmaForCausalLM(model_config)\n",
    "    model.load_weights(weights_dir)\n",
    "    model = model.to(device).eval()"
   ]
  },
  {
   "cell_type": "code",
   "execution_count": 10,
   "id": "0ef25c11-5e97-48fd-803c-4774a310f858",
   "metadata": {
    "tags": []
   },
   "outputs": [
    {
     "data": {
      "text/plain": [
       "\"California is brimming with amazing things to do!  To give you some ideas, tell me:\\n\\n* **What are you interested in?** Beaches, mountains, cities, theme parks, wine country, history, nature, art, food?\\n* **Who are you traveling with?**  Solo, family, friends, partner?\\n* **What's your budget like?** \\n* **How long do you have?**  A weekend, a week, longer? \""
      ]
     },
     "execution_count": 10,
     "metadata": {},
     "output_type": "execute_result"
    }
   ],
   "source": [
    "USER_CHAT_TEMPLATE = \"<start_of_turn>user\\n{prompt}<end_of_turn><eos>\\n\"\n",
    "MODEL_CHAT_TEMPLATE = \"<start_of_turn>model\\n{prompt}<end_of_turn><eos>\\n\"\n",
    "\n",
    "prompt = (\n",
    "    USER_CHAT_TEMPLATE.format(\n",
    "        prompt=\"What is a good place for travel in the US?\"\n",
    "    )\n",
    "    + MODEL_CHAT_TEMPLATE.format(prompt=\"California.\")\n",
    "    + USER_CHAT_TEMPLATE.format(prompt=\"What can I do in California?\")\n",
    "    + \"<start_of_turn>model\\n\"\n",
    ")\n",
    "\n",
    "model.generate(\n",
    "    USER_CHAT_TEMPLATE.format(prompt=prompt),\n",
    "    device=device,\n",
    "    output_len=100,\n",
    ")"
   ]
  },
  {
   "cell_type": "code",
   "execution_count": 19,
   "id": "097ed03c-cf8d-4403-8645-f3e7236c11d6",
   "metadata": {
    "tags": []
   },
   "outputs": [],
   "source": [
    "import json\n",
    "from tqdm import tqdm\n",
    "\n",
    "DATASET_PATH = \"synthetic_data_generation/synthetic_data.json\"  # Path to your dataset\n",
    "with open(DATASET_PATH, \"r\") as f:\n",
    "    dataset = json.load(f)\n",
    "\n",
    "def build_prompt(query: str) -> str:\n",
    "    \"\"\"\n",
    "    Constructs a structured prompt for financial FAQ use case.\n",
    "    \"\"\"\n",
    "    return (\n",
    "        \"\"\"You are a financial assistant trained to answer user queries related to their financial transactions, \n",
    "        mobile payments, and services for a financial app called Bkash in Bangladesh. \n",
    "        Assume that you have access to the user's transaction history, purchased subscription and data plans through the Bkash app.\n",
    "        You are allowed to provide a dummy value for the amounts and numbers that the user asks in a query. \n",
    "        Your answers should be contextually accurate and concise. Don't worry too much about the exact numerical results in your answer.\\n\"\"\"\n",
    "        + USER_CHAT_TEMPLATE.format(prompt=query)\n",
    "        + \"<start_of_turn>model\\n\"\n",
    "    )\n",
    "\n",
    "# Evaluation function\n",
    "def evaluate_dataset(dataset):\n",
    "    results = []\n",
    "\n",
    "    for entry in tqdm(dataset):\n",
    "        query = entry[\"query\"]\n",
    "        expected_answer = entry[\"expected_answer\"]\n",
    "\n",
    "        # Build a financial FAQ-specific prompt\n",
    "        prompt = build_prompt(query)\n",
    "\n",
    "        # Generate model response\n",
    "        generated_output = model.generate(\n",
    "            prompt,\n",
    "            device=device,\n",
    "            output_len=100  # Adjust output length as needed\n",
    "        )\n",
    "\n",
    "        # Extract and clean up the generated response\n",
    "        generated_response = generated_output.strip()\n",
    "\n",
    "        # Store result\n",
    "        result = {\n",
    "            \"query\": query,\n",
    "            \"expected_answer\": expected_answer,\n",
    "            \"generated_response\": generated_response\n",
    "        }\n",
    "        results.append(result)\n",
    "\n",
    "    return results"
   ]
  },
  {
   "cell_type": "code",
   "execution_count": 20,
   "id": "6a358d35-d0c7-4589-b360-3b633c6edff1",
   "metadata": {
    "tags": []
   },
   "outputs": [
    {
     "name": "stderr",
     "output_type": "stream",
     "text": [
      "100%|██████████| 60/60 [06:13<00:00,  6.22s/it]\n"
     ]
    }
   ],
   "source": [
    "evaluation_results = evaluate_dataset(dataset)"
   ]
  },
  {
   "cell_type": "code",
   "execution_count": 21,
   "id": "9a279b5e-33b6-4f01-bac2-15aefc52603d",
   "metadata": {
    "tags": []
   },
   "outputs": [
    {
     "name": "stdout",
     "output_type": "stream",
     "text": [
      "Evaluation results saved to benchmarking_tests/evaluation_results_with_data_access_prompt_2.json\n"
     ]
    }
   ],
   "source": [
    "OUTPUT_PATH = \"benchmarking_tests/evaluation_results_with_data_access_prompt_2.json\"\n",
    "with open(OUTPUT_PATH, \"w\") as f:\n",
    "    json.dump(evaluation_results, f, indent=4)\n",
    "\n",
    "print(f\"Evaluation results saved to {OUTPUT_PATH}\")"
   ]
  },
  {
   "cell_type": "code",
   "execution_count": 4,
   "id": "da9497ac-c49d-442a-b526-c1db18369e2d",
   "metadata": {
    "collapsed": true,
    "jupyter": {
     "outputs_hidden": true
    },
    "tags": []
   },
   "outputs": [
    {
     "name": "stdout",
     "output_type": "stream",
     "text": [
      "Requirement already satisfied: rouge in /home/ec2-user/anaconda3/envs/pytorch_p310/lib/python3.10/site-packages (1.0.1)\n",
      "Collecting nltk\n",
      "  Downloading nltk-3.9.1-py3-none-any.whl.metadata (2.9 kB)\n",
      "Requirement already satisfied: six in /home/ec2-user/anaconda3/envs/pytorch_p310/lib/python3.10/site-packages (from rouge) (1.17.0)\n",
      "Requirement already satisfied: click in /home/ec2-user/anaconda3/envs/pytorch_p310/lib/python3.10/site-packages (from nltk) (8.1.7)\n",
      "Requirement already satisfied: joblib in /home/ec2-user/anaconda3/envs/pytorch_p310/lib/python3.10/site-packages (from nltk) (1.4.2)\n",
      "Collecting regex>=2021.8.3 (from nltk)\n",
      "  Downloading regex-2024.11.6-cp310-cp310-manylinux_2_17_x86_64.manylinux2014_x86_64.whl.metadata (40 kB)\n",
      "Requirement already satisfied: tqdm in /home/ec2-user/anaconda3/envs/pytorch_p310/lib/python3.10/site-packages (from nltk) (4.67.1)\n",
      "Downloading nltk-3.9.1-py3-none-any.whl (1.5 MB)\n",
      "\u001b[2K   \u001b[90m━━━━━━━━━━━━━━━━━━━━━━━━━━━━━━━━━━━━━━━━\u001b[0m \u001b[32m1.5/1.5 MB\u001b[0m \u001b[31m37.2 MB/s\u001b[0m eta \u001b[36m0:00:00\u001b[0m\n",
      "\u001b[?25hDownloading regex-2024.11.6-cp310-cp310-manylinux_2_17_x86_64.manylinux2014_x86_64.whl (781 kB)\n",
      "\u001b[2K   \u001b[90m━━━━━━━━━━━━━━━━━━━━━━━━━━━━━━━━━━━━━━━━\u001b[0m \u001b[32m781.7/781.7 kB\u001b[0m \u001b[31m36.8 MB/s\u001b[0m eta \u001b[36m0:00:00\u001b[0m\n",
      "\u001b[?25hInstalling collected packages: regex, nltk\n",
      "Successfully installed nltk-3.9.1 regex-2024.11.6\n"
     ]
    }
   ],
   "source": [
    "!pip install rouge nltk"
   ]
  },
  {
   "cell_type": "code",
   "execution_count": 5,
   "id": "e720e2ef-871f-4c0e-8290-01129525c6b1",
   "metadata": {
    "tags": []
   },
   "outputs": [],
   "source": [
    "from nltk.translate.bleu_score import sentence_bleu, SmoothingFunction\n",
    "from rouge import Rouge\n",
    "\n",
    "def calculate_scores(results):\n",
    "    \"\"\"\n",
    "    Calculate BLEU and ROUGE scores for generated responses.\n",
    "\n",
    "    Args:\n",
    "        results (list): List of dictionaries, each containing:\n",
    "                        - 'query': The user query\n",
    "                        - 'expected_answer': The ground truth response\n",
    "                        - 'generated_response': The model's generated response\n",
    "\n",
    "    Returns:\n",
    "        list: A list of dictionaries with BLEU and ROUGE scores for each query.\n",
    "    \"\"\"\n",
    "    rouge = Rouge()\n",
    "    smoothing_function = SmoothingFunction().method1  # Smoothing for BLEU\n",
    "    scores = []\n",
    "    for result in results:\n",
    "        expected = result[\"expected_answer\"]\n",
    "        generated = result[\"generated_response\"]\n",
    "\n",
    "        # Calculate BLEU Score\n",
    "        bleu_score = sentence_bleu(\n",
    "            [expected.split()], \n",
    "            generated.split(), \n",
    "            smoothing_function=smoothing_function\n",
    "        )\n",
    "\n",
    "        # Calculate ROUGE Scores\n",
    "        rouge_scores = rouge.get_scores(generated, expected, avg=True)\n",
    "\n",
    "        # Store scores\n",
    "        result_with_scores = {\n",
    "            \"query\": result[\"query\"],\n",
    "            \"expected_answer\": expected,\n",
    "            \"generated_response\": generated,\n",
    "            \"bleu_score\": bleu_score,\n",
    "            \"rouge_1\": rouge_scores[\"rouge-1\"][\"f\"],\n",
    "            \"rouge_2\": rouge_scores[\"rouge-2\"][\"f\"],\n",
    "            \"rouge_l\": rouge_scores[\"rouge-l\"][\"f\"]\n",
    "        }\n",
    "        scores.append(result_with_scores)\n",
    "\n",
    "    return scores\n"
   ]
  },
  {
   "cell_type": "code",
   "execution_count": 7,
   "id": "631abca6-a7ca-418a-93c7-84eb6e623de6",
   "metadata": {
    "tags": []
   },
   "outputs": [
    {
     "name": "stdout",
     "output_type": "stream",
     "text": [
      "Scores saved to benchmarking_tests/evaluation_scores.json\n"
     ]
    }
   ],
   "source": [
    "# Load evaluation results (after inference)\n",
    "import json\n",
    "with open(\"benchmarking_tests/evaluation_results_with_data_access_prompt_2.json\", \"r\") as f:\n",
    "    evaluation_results = json.load(f)\n",
    "\n",
    "# Calculate scores\n",
    "scores = calculate_scores(evaluation_results)\n",
    "\n",
    "# Save scores to a JSON file\n",
    "SCORES_OUTPUT_PATH = \"benchmarking_tests/evaluation_scores.json\"\n",
    "with open(SCORES_OUTPUT_PATH, \"w\") as f:\n",
    "    json.dump(scores, f, indent=4)\n",
    "\n",
    "print(f\"Scores saved to {SCORES_OUTPUT_PATH}\")"
   ]
  },
  {
   "cell_type": "code",
   "execution_count": 8,
   "id": "c15d2233-29b5-4ac0-b6a6-23ef7c1ffbfe",
   "metadata": {
    "tags": []
   },
   "outputs": [],
   "source": [
    "import matplotlib.pyplot as plt\n",
    "import numpy as np\n",
    "\n",
    "def visualize_scores(scores):\n",
    "    \"\"\"\n",
    "    Visualize the overall BLEU and ROUGE scores.\n",
    "\n",
    "    Args:\n",
    "        scores (list): List of dictionaries with BLEU and ROUGE scores for each query.\n",
    "                       Each dictionary should contain keys:\n",
    "                       - 'bleu_score'\n",
    "                       - 'rouge_1'\n",
    "                       - 'rouge_2'\n",
    "                       - 'rouge_l'\n",
    "    \"\"\"\n",
    "    # Extract scores\n",
    "    bleu_scores = [entry[\"bleu_score\"] for entry in scores]\n",
    "    rouge_1_scores = [entry[\"rouge_1\"] for entry in scores]\n",
    "    rouge_2_scores = [entry[\"rouge_2\"] for entry in scores]\n",
    "    rouge_l_scores = [entry[\"rouge_l\"] for entry in scores]\n",
    "\n",
    "    # Calculate averages\n",
    "    avg_bleu = np.mean(bleu_scores)\n",
    "    avg_rouge_1 = np.mean(rouge_1_scores)\n",
    "    avg_rouge_2 = np.mean(rouge_2_scores)\n",
    "    avg_rouge_l = np.mean(rouge_l_scores)\n",
    "\n",
    "    # Labels and values for the bar chart\n",
    "    metrics = [\"BLEU\", \"ROUGE-1\", \"ROUGE-2\", \"ROUGE-L\"]\n",
    "    averages = [avg_bleu, avg_rouge_1, avg_rouge_2, avg_rouge_l]\n",
    "\n",
    "    # Plotting the bar chart\n",
    "    plt.figure(figsize=(10, 6))\n",
    "    bars = plt.bar(metrics, averages, color=[\"blue\", \"orange\", \"green\", \"red\"], alpha=0.8)\n",
    "    # Add value annotations\n",
    "    for bar in bars:\n",
    "        height = bar.get_height()\n",
    "        plt.text(\n",
    "            bar.get_x() + bar.get_width() / 2,\n",
    "            height,\n",
    "            f\"{height:.2f}\",\n",
    "            ha=\"center\",\n",
    "            va=\"bottom\",\n",
    "            fontsize=12\n",
    "        )\n",
    "\n",
    "    # Title and labels\n",
    "    plt.title(\"Overall Model Performance\", fontsize=16)\n",
    "    plt.ylabel(\"Average Score\", fontsize=14)\n",
    "    plt.ylim(0, 1)\n",
    "    plt.grid(axis=\"y\", linestyle=\"--\", alpha=0.7)\n",
    "    plt.tight_layout()\n",
    "\n",
    "    # Show the plot\n",
    "    plt.show()"
   ]
  },
  {
   "cell_type": "code",
   "execution_count": 9,
   "id": "64a77932-ec9a-4674-a72c-67908e1f0106",
   "metadata": {
    "tags": []
   },
   "outputs": [
    {
     "data": {
      "image/png": "[encoded data removed]",
      "text/plain": [
       "<Figure size 1000x600 with 1 Axes>"
      ]
     },
     "metadata": {},
     "output_type": "display_data"
    }
   ],
   "source": [
    "visualize_scores(scores)"
   ]
  },
  {
   "cell_type": "code",
   "execution_count": null,
   "id": "ef2ff228-0121-4e9f-8ad7-41f10b3f47a5",
   "metadata": {},
   "outputs": [],
   "source": []
  }
 ],
 "metadata": {
  "kernelspec": {
   "display_name": "conda_pytorch_p310",
   "language": "python",
   "name": "conda_pytorch_p310"
  },
  "language_info": {
   "codemirror_mode": {
    "name": "ipython",
    "version": 3
   },
   "file_extension": ".py",
   "mimetype": "text/x-python",
   "name": "python",
   "nbconvert_exporter": "python",
   "pygments_lexer": "ipython3",
   "version": "3.10.14"
  }
 },
 "nbformat": 4,
 "nbformat_minor": 5
}
